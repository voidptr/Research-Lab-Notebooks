{
 "metadata": {
  "name": "",
  "signature": "sha256:18d56110de7db137664b9bd264cea552ed4cd86f30cea819bea5bef3e444b2c0"
 },
 "nbformat": 3,
 "nbformat_minor": 0,
 "worksheets": []
}