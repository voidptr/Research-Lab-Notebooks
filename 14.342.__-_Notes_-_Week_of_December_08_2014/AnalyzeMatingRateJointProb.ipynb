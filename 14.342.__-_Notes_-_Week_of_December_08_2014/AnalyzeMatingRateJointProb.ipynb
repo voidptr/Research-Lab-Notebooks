{
 "metadata": {
  "name": "",
  "signature": "sha256:5810eecf51bb68c74fda1b6535adb1f2903e4548949a3ab0256c7c6cc4993d58"
 },
 "nbformat": 3,
 "nbformat_minor": 0,
 "worksheets": [
  {
   "cells": [
    {
     "cell_type": "code",
     "collapsed": false,
     "input": [
      "import pandas as pd\n",
      "import statsmodels.api as sm"
     ],
     "language": "python",
     "metadata": {},
     "outputs": [],
     "prompt_number": 21
    },
    {
     "cell_type": "code",
     "collapsed": false,
     "input": [
      "# some display options to make figures bigger\n",
      "# hide this\n",
      "pd.set_option('display.max_columns', 15)\n",
      "pd.set_option('display.line_width', 400)\n",
      "pd.set_option('display.mpl_style', 'default')\n",
      "rcParams['figure.figsize'] = (14, 7)\n",
      "import matplotlib\n",
      "font = {'family' : 'normal',\n",
      "        'weight' : 'bold',\n",
      "        'size'   : 22}\n",
      "\n",
      "matplotlib.rc('font', **font)\n"
     ],
     "language": "python",
     "metadata": {},
     "outputs": [
      {
       "output_type": "stream",
       "stream": "stdout",
       "text": [
        "line_width has been deprecated, use display.width instead (currently both are\n",
        "identical)\n",
        "\n"
       ]
      }
     ],
     "prompt_number": 22
    },
    {
     "cell_type": "code",
     "collapsed": false,
     "input": [
      "JP_120 = pd.read_csv(\"./120_Drift_HM_joint_probability.csv\", names=[\"ProbAB\", \"ProbAA\", \"ProbBB\", \"EntropyAB\", \"EntropyAA\", \"EntropyBB\" ])\n",
      "JP_120[:1].append(JP_120[-1:])"
     ],
     "language": "python",
     "metadata": {},
     "outputs": [
      {
       "html": [
        "<div style=\"max-height:1000px;max-width:1500px;overflow:auto;\">\n",
        "<table border=\"1\" class=\"dataframe\">\n",
        "  <thead>\n",
        "    <tr style=\"text-align: right;\">\n",
        "      <th></th>\n",
        "      <th>ProbAB</th>\n",
        "      <th>ProbAA</th>\n",
        "      <th>ProbBB</th>\n",
        "      <th>EntropyAB</th>\n",
        "      <th>EntropyAA</th>\n",
        "      <th>EntropyBB</th>\n",
        "    </tr>\n",
        "  </thead>\n",
        "  <tbody>\n",
        "    <tr>\n",
        "      <th>0 </th>\n",
        "      <td> 0.126396</td>\n",
        "      <td> 0.384435</td>\n",
        "      <td> 0.064383</td>\n",
        "      <td> 0.479914</td>\n",
        "      <td> 0.685604</td>\n",
        "      <td> 0.386278</td>\n",
        "    </tr>\n",
        "    <tr>\n",
        "      <th>28</th>\n",
        "      <td> 0.259499</td>\n",
        "      <td> 0.295349</td>\n",
        "      <td> 0.490114</td>\n",
        "      <td> 0.689079</td>\n",
        "      <td> 0.804711</td>\n",
        "      <td> 0.591900</td>\n",
        "    </tr>\n",
        "  </tbody>\n",
        "</table>\n",
        "</div>"
       ],
       "metadata": {},
       "output_type": "pyout",
       "prompt_number": 23,
       "text": [
        "      ProbAB    ProbAA    ProbBB  EntropyAB  EntropyAA  EntropyBB\n",
        "0   0.126396  0.384435  0.064383   0.479914   0.685604   0.386278\n",
        "28  0.259499  0.295349  0.490114   0.689079   0.804711   0.591900"
       ]
      }
     ],
     "prompt_number": 23
    },
    {
     "cell_type": "code",
     "collapsed": false,
     "input": [
      "JP_121 = pd.read_csv(\"./121_Drift_HM_joint_probability.csv\", names=[\"ProbAB\", \"ProbAA\", \"ProbBB\", \"EntropyAB\", \"EntropyAA\", \"EntropyBB\" ])\n",
      "JP_121[:1].append(JP_121[-1:])"
     ],
     "language": "python",
     "metadata": {},
     "outputs": [
      {
       "html": [
        "<div style=\"max-height:1000px;max-width:1500px;overflow:auto;\">\n",
        "<table border=\"1\" class=\"dataframe\">\n",
        "  <thead>\n",
        "    <tr style=\"text-align: right;\">\n",
        "      <th></th>\n",
        "      <th>ProbAB</th>\n",
        "      <th>ProbAA</th>\n",
        "      <th>ProbBB</th>\n",
        "      <th>EntropyAB</th>\n",
        "      <th>EntropyAA</th>\n",
        "      <th>EntropyBB</th>\n",
        "    </tr>\n",
        "  </thead>\n",
        "  <tbody>\n",
        "    <tr>\n",
        "      <th>0 </th>\n",
        "      <td> 0.023825</td>\n",
        "      <td> 0.335911</td>\n",
        "      <td> 0.430726</td>\n",
        "      <td> 0.145325</td>\n",
        "      <td> 0.771938</td>\n",
        "      <td> 0.619404</td>\n",
        "    </tr>\n",
        "    <tr>\n",
        "      <th>29</th>\n",
        "      <td> 0.485033</td>\n",
        "      <td> 0.484449</td>\n",
        "      <td> 0.488510</td>\n",
        "      <td> 0.549735</td>\n",
        "      <td> 0.566898</td>\n",
        "      <td> 0.561541</td>\n",
        "    </tr>\n",
        "  </tbody>\n",
        "</table>\n",
        "</div>"
       ],
       "metadata": {},
       "output_type": "pyout",
       "prompt_number": 4,
       "text": [
        "      ProbAB    ProbAA    ProbBB  EntropyAB  EntropyAA  EntropyBB\n",
        "0   0.023825  0.335911  0.430726   0.145325   0.771938   0.619404\n",
        "29  0.485033  0.484449  0.488510   0.549735   0.566898   0.561541"
       ]
      }
     ],
     "prompt_number": 4
    },
    {
     "cell_type": "code",
     "collapsed": false,
     "input": [
      "JP_122 = pd.read_csv(\"./122_Drift_HM_joint_probability.csv\", names=[\"ProbAB\", \"ProbAA\", \"ProbBB\", \"EntropyAB\", \"EntropyAA\", \"EntropyBB\" ])\n",
      "JP_122[:1].append(JP_122[-1:])"
     ],
     "language": "python",
     "metadata": {},
     "outputs": [
      {
       "html": [
        "<div style=\"max-height:1000px;max-width:1500px;overflow:auto;\">\n",
        "<table border=\"1\" class=\"dataframe\">\n",
        "  <thead>\n",
        "    <tr style=\"text-align: right;\">\n",
        "      <th></th>\n",
        "      <th>ProbAB</th>\n",
        "      <th>ProbAA</th>\n",
        "      <th>ProbBB</th>\n",
        "      <th>EntropyAB</th>\n",
        "      <th>EntropyAA</th>\n",
        "      <th>EntropyBB</th>\n",
        "    </tr>\n",
        "  </thead>\n",
        "  <tbody>\n",
        "    <tr>\n",
        "      <th>0 </th>\n",
        "      <td> 0.166471</td>\n",
        "      <td> 0.154534</td>\n",
        "      <td> 0.197343</td>\n",
        "      <td> 0.729855</td>\n",
        "      <td> 0.713763</td>\n",
        "      <td> 0.772732</td>\n",
        "    </tr>\n",
        "    <tr>\n",
        "      <th>29</th>\n",
        "      <td> 0.075521</td>\n",
        "      <td> 0.105988</td>\n",
        "      <td> 0.070422</td>\n",
        "      <td> 0.426254</td>\n",
        "      <td> 0.498378</td>\n",
        "      <td> 0.465028</td>\n",
        "    </tr>\n",
        "  </tbody>\n",
        "</table>\n",
        "</div>"
       ],
       "metadata": {},
       "output_type": "pyout",
       "prompt_number": 5,
       "text": [
        "      ProbAB    ProbAA    ProbBB  EntropyAB  EntropyAA  EntropyBB\n",
        "0   0.166471  0.154534  0.197343   0.729855   0.713763   0.772732\n",
        "29  0.075521  0.105988  0.070422   0.426254   0.498378   0.465028"
       ]
      }
     ],
     "prompt_number": 5
    },
    {
     "cell_type": "code",
     "collapsed": false,
     "input": [
      "SMR_120 = pd.read_csv(\"./120_Drift_HM_sum_matings_ratio_gen1.dat\", names=[\"SumMatingsRatio\" ])\n",
      "SMR_120[:1].append(SMR_120[-1:])"
     ],
     "language": "python",
     "metadata": {},
     "outputs": [
      {
       "html": [
        "<div style=\"max-height:1000px;max-width:1500px;overflow:auto;\">\n",
        "<table border=\"1\" class=\"dataframe\">\n",
        "  <thead>\n",
        "    <tr style=\"text-align: right;\">\n",
        "      <th></th>\n",
        "      <th>SumMatingsRatio</th>\n",
        "    </tr>\n",
        "  </thead>\n",
        "  <tbody>\n",
        "    <tr>\n",
        "      <th>0 </th>\n",
        "      <td> 0.173956</td>\n",
        "    </tr>\n",
        "    <tr>\n",
        "      <th>28</th>\n",
        "      <td> 0.351136</td>\n",
        "    </tr>\n",
        "  </tbody>\n",
        "</table>\n",
        "</div>"
       ],
       "metadata": {},
       "output_type": "pyout",
       "prompt_number": 6,
       "text": [
        "    SumMatingsRatio\n",
        "0          0.173956\n",
        "28         0.351136"
       ]
      }
     ],
     "prompt_number": 6
    },
    {
     "cell_type": "code",
     "collapsed": false,
     "input": [
      "SMR_121 = pd.read_csv(\"./121_Drift_HM_sum_matings_ratio_gen1.dat\", names=[\"SumMatingsRatio\" ])\n",
      "SMR_121[:1].append(SMR_121[-1:])"
     ],
     "language": "python",
     "metadata": {},
     "outputs": [
      {
       "html": [
        "<div style=\"max-height:1000px;max-width:1500px;overflow:auto;\">\n",
        "<table border=\"1\" class=\"dataframe\">\n",
        "  <thead>\n",
        "    <tr style=\"text-align: right;\">\n",
        "      <th></th>\n",
        "      <th>SumMatingsRatio</th>\n",
        "    </tr>\n",
        "  </thead>\n",
        "  <tbody>\n",
        "    <tr>\n",
        "      <th>0 </th>\n",
        "      <td> 0.083164</td>\n",
        "    </tr>\n",
        "    <tr>\n",
        "      <th>29</th>\n",
        "      <td> 0.492616</td>\n",
        "    </tr>\n",
        "  </tbody>\n",
        "</table>\n",
        "</div>"
       ],
       "metadata": {},
       "output_type": "pyout",
       "prompt_number": 7,
       "text": [
        "    SumMatingsRatio\n",
        "0          0.083164\n",
        "29         0.492616"
       ]
      }
     ],
     "prompt_number": 7
    },
    {
     "cell_type": "code",
     "collapsed": false,
     "input": [
      "SMR_122 = pd.read_csv(\"./122_Drift_HM_sum_matings_ratio_gen1.dat\", names=[\"SumMatingsRatio\" ])\n",
      "SMR_122[:1].append(SMR_122[-1:])"
     ],
     "language": "python",
     "metadata": {},
     "outputs": [
      {
       "html": [
        "<div style=\"max-height:1000px;max-width:1500px;overflow:auto;\">\n",
        "<table border=\"1\" class=\"dataframe\">\n",
        "  <thead>\n",
        "    <tr style=\"text-align: right;\">\n",
        "      <th></th>\n",
        "      <th>SumMatingsRatio</th>\n",
        "    </tr>\n",
        "  </thead>\n",
        "  <tbody>\n",
        "    <tr>\n",
        "      <th>0 </th>\n",
        "      <td> 0.472754</td>\n",
        "    </tr>\n",
        "    <tr>\n",
        "      <th>29</th>\n",
        "      <td> 0.462545</td>\n",
        "    </tr>\n",
        "  </tbody>\n",
        "</table>\n",
        "</div>"
       ],
       "metadata": {},
       "output_type": "pyout",
       "prompt_number": 8,
       "text": [
        "    SumMatingsRatio\n",
        "0          0.472754\n",
        "29         0.462545"
       ]
      }
     ],
     "prompt_number": 8
    },
    {
     "cell_type": "code",
     "collapsed": false,
     "input": [
      "FP_120 = pd.read_csv(\"./120_Drift_HM_female_preference.csv\", names=[\"Num Choosy Females 2a\", \"Num Choosy Females 2b\" ])\n",
      "FP_120[:1].append(FP_120[-1:])\n",
      "## right, so this data here has one extra datapoint, where we weren't able to capture in the previous\n",
      "# thingies. I'm going to have to scrub this. But I have to leave for the movie now. Or, even just skip using this for now. "
     ],
     "language": "python",
     "metadata": {},
     "outputs": [
      {
       "html": [
        "<div style=\"max-height:1000px;max-width:1500px;overflow:auto;\">\n",
        "<table border=\"1\" class=\"dataframe\">\n",
        "  <thead>\n",
        "    <tr style=\"text-align: right;\">\n",
        "      <th></th>\n",
        "      <th>Num Choosy Females 2a</th>\n",
        "      <th>Num Choosy Females 2b</th>\n",
        "    </tr>\n",
        "  </thead>\n",
        "  <tbody>\n",
        "    <tr>\n",
        "      <th>0 </th>\n",
        "      <td> 839</td>\n",
        "      <td> 842</td>\n",
        "    </tr>\n",
        "    <tr>\n",
        "      <th>29</th>\n",
        "      <td> 890</td>\n",
        "      <td> 897</td>\n",
        "    </tr>\n",
        "  </tbody>\n",
        "</table>\n",
        "</div>"
       ],
       "metadata": {},
       "output_type": "pyout",
       "prompt_number": 9,
       "text": [
        "    Num Choosy Females 2a  Num Choosy Females 2b\n",
        "0                     839                    842\n",
        "29                    890                    897"
       ]
      }
     ],
     "prompt_number": 9
    },
    {
     "cell_type": "code",
     "collapsed": false,
     "input": [
      "FP_121 = pd.read_csv(\"./121_Drift_HM_female_preference.csv\", names=[\"Num Choosy Females 2a\", \"Num Choosy Females 2b\" ])\n",
      "FP_121[:1].append(FP_121[-1:])"
     ],
     "language": "python",
     "metadata": {},
     "outputs": [
      {
       "html": [
        "<div style=\"max-height:1000px;max-width:1500px;overflow:auto;\">\n",
        "<table border=\"1\" class=\"dataframe\">\n",
        "  <thead>\n",
        "    <tr style=\"text-align: right;\">\n",
        "      <th></th>\n",
        "      <th>Num Choosy Females 2a</th>\n",
        "      <th>Num Choosy Females 2b</th>\n",
        "    </tr>\n",
        "  </thead>\n",
        "  <tbody>\n",
        "    <tr>\n",
        "      <th>0 </th>\n",
        "      <td> 899</td>\n",
        "      <td> 894</td>\n",
        "    </tr>\n",
        "    <tr>\n",
        "      <th>29</th>\n",
        "      <td> 874</td>\n",
        "      <td> 866</td>\n",
        "    </tr>\n",
        "  </tbody>\n",
        "</table>\n",
        "</div>"
       ],
       "metadata": {},
       "output_type": "pyout",
       "prompt_number": 10,
       "text": [
        "    Num Choosy Females 2a  Num Choosy Females 2b\n",
        "0                     899                    894\n",
        "29                    874                    866"
       ]
      }
     ],
     "prompt_number": 10
    },
    {
     "cell_type": "code",
     "collapsed": false,
     "input": [
      "FP_122 = pd.read_csv(\"./122_Drift_HM_female_preference.csv\", names=[\"Num Choosy Females 2a\", \"Num Choosy Females 2b\" ])\n",
      "FP_122[:1].append(FP_122[-1:])"
     ],
     "language": "python",
     "metadata": {},
     "outputs": [
      {
       "html": [
        "<div style=\"max-height:1000px;max-width:1500px;overflow:auto;\">\n",
        "<table border=\"1\" class=\"dataframe\">\n",
        "  <thead>\n",
        "    <tr style=\"text-align: right;\">\n",
        "      <th></th>\n",
        "      <th>Num Choosy Females 2a</th>\n",
        "      <th>Num Choosy Females 2b</th>\n",
        "    </tr>\n",
        "  </thead>\n",
        "  <tbody>\n",
        "    <tr>\n",
        "      <th>0 </th>\n",
        "      <td> 780</td>\n",
        "      <td> 753</td>\n",
        "    </tr>\n",
        "    <tr>\n",
        "      <th>29</th>\n",
        "      <td> 406</td>\n",
        "      <td> 498</td>\n",
        "    </tr>\n",
        "  </tbody>\n",
        "</table>\n",
        "</div>"
       ],
       "metadata": {},
       "output_type": "pyout",
       "prompt_number": 11,
       "text": [
        "    Num Choosy Females 2a  Num Choosy Females 2b\n",
        "0                     780                    753\n",
        "29                    406                    498"
       ]
      }
     ],
     "prompt_number": 11
    },
    {
     "cell_type": "code",
     "collapsed": false,
     "input": [
      "y = SMR_121.SumMatingsRatio  # response\n",
      "X = JP_121.ProbAB  # predictor\n",
      "X = sm.add_constant(X)  # Adds a constant term to the predictor\n",
      "X.head()"
     ],
     "language": "python",
     "metadata": {},
     "outputs": [
      {
       "html": [
        "<div style=\"max-height:1000px;max-width:1500px;overflow:auto;\">\n",
        "<table border=\"1\" class=\"dataframe\">\n",
        "  <thead>\n",
        "    <tr style=\"text-align: right;\">\n",
        "      <th></th>\n",
        "      <th>const</th>\n",
        "      <th>ProbAB</th>\n",
        "    </tr>\n",
        "  </thead>\n",
        "  <tbody>\n",
        "    <tr>\n",
        "      <th>0</th>\n",
        "      <td> 1</td>\n",
        "      <td> 0.023825</td>\n",
        "    </tr>\n",
        "    <tr>\n",
        "      <th>1</th>\n",
        "      <td> 1</td>\n",
        "      <td> 0.114723</td>\n",
        "    </tr>\n",
        "    <tr>\n",
        "      <th>2</th>\n",
        "      <td> 1</td>\n",
        "      <td> 0.008753</td>\n",
        "    </tr>\n",
        "    <tr>\n",
        "      <th>3</th>\n",
        "      <td> 1</td>\n",
        "      <td> 0.012733</td>\n",
        "    </tr>\n",
        "    <tr>\n",
        "      <th>4</th>\n",
        "      <td> 1</td>\n",
        "      <td> 0.021351</td>\n",
        "    </tr>\n",
        "  </tbody>\n",
        "</table>\n",
        "</div>"
       ],
       "metadata": {},
       "output_type": "pyout",
       "prompt_number": 12,
       "text": [
        "   const    ProbAB\n",
        "0      1  0.023825\n",
        "1      1  0.114723\n",
        "2      1  0.008753\n",
        "3      1  0.012733\n",
        "4      1  0.021351"
       ]
      }
     ],
     "prompt_number": 12
    },
    {
     "cell_type": "code",
     "collapsed": false,
     "input": [
      "est = sm.OLS(y, X)\n",
      "est = est.fit()\n",
      "est.summary()"
     ],
     "language": "python",
     "metadata": {},
     "outputs": [
      {
       "html": [
        "<table class=\"simpletable\">\n",
        "<caption>OLS Regression Results</caption>\n",
        "<tr>\n",
        "  <th>Dep. Variable:</th>     <td>SumMatingsRatio</td> <th>  R-squared:         </th> <td>   0.883</td>\n",
        "</tr>\n",
        "<tr>\n",
        "  <th>Model:</th>                   <td>OLS</td>       <th>  Adj. R-squared:    </th> <td>   0.879</td>\n",
        "</tr>\n",
        "<tr>\n",
        "  <th>Method:</th>             <td>Least Squares</td>  <th>  F-statistic:       </th> <td>   211.0</td>\n",
        "</tr>\n",
        "<tr>\n",
        "  <th>Date:</th>             <td>Tue, 16 Dec 2014</td> <th>  Prob (F-statistic):</th> <td>1.46e-14</td>\n",
        "</tr>\n",
        "<tr>\n",
        "  <th>Time:</th>                 <td>15:18:27</td>     <th>  Log-Likelihood:    </th> <td>  59.143</td>\n",
        "</tr>\n",
        "<tr>\n",
        "  <th>No. Observations:</th>      <td>    30</td>      <th>  AIC:               </th> <td>  -114.3</td>\n",
        "</tr>\n",
        "<tr>\n",
        "  <th>Df Residuals:</th>          <td>    28</td>      <th>  BIC:               </th> <td>  -111.5</td>\n",
        "</tr>\n",
        "<tr>\n",
        "  <th>Df Model:</th>              <td>     1</td>      <th>                     </th>     <td> </td>   \n",
        "</tr>\n",
        "<tr>\n",
        "  <th>Covariance Type:</th>      <td>nonrobust</td>    <th>                     </th>     <td> </td>   \n",
        "</tr>\n",
        "</table>\n",
        "<table class=\"simpletable\">\n",
        "<tr>\n",
        "     <td></td>       <th>coef</th>     <th>std err</th>      <th>t</th>      <th>P>|t|</th> <th>[95.0% Conf. Int.]</th> \n",
        "</tr>\n",
        "<tr>\n",
        "  <th>const</th>  <td>    0.0840</td> <td>    0.007</td> <td>   11.814</td> <td> 0.000</td> <td>    0.069     0.099</td>\n",
        "</tr>\n",
        "<tr>\n",
        "  <th>ProbAB</th> <td>    0.9699</td> <td>    0.067</td> <td>   14.525</td> <td> 0.000</td> <td>    0.833     1.107</td>\n",
        "</tr>\n",
        "</table>\n",
        "<table class=\"simpletable\">\n",
        "<tr>\n",
        "  <th>Omnibus:</th>       <td>15.855</td> <th>  Durbin-Watson:     </th> <td>   1.717</td>\n",
        "</tr>\n",
        "<tr>\n",
        "  <th>Prob(Omnibus):</th> <td> 0.000</td> <th>  Jarque-Bera (JB):  </th> <td>  20.113</td>\n",
        "</tr>\n",
        "<tr>\n",
        "  <th>Skew:</th>          <td> 1.300</td> <th>  Prob(JB):          </th> <td>4.29e-05</td>\n",
        "</tr>\n",
        "<tr>\n",
        "  <th>Kurtosis:</th>      <td> 6.054</td> <th>  Cond. No.          </th> <td>    10.5</td>\n",
        "</tr>\n",
        "</table>"
       ],
       "metadata": {},
       "output_type": "pyout",
       "prompt_number": 13,
       "text": [
        "<class 'statsmodels.iolib.summary.Summary'>\n",
        "\"\"\"\n",
        "                            OLS Regression Results                            \n",
        "==============================================================================\n",
        "Dep. Variable:        SumMatingsRatio   R-squared:                       0.883\n",
        "Model:                            OLS   Adj. R-squared:                  0.879\n",
        "Method:                 Least Squares   F-statistic:                     211.0\n",
        "Date:                Tue, 16 Dec 2014   Prob (F-statistic):           1.46e-14\n",
        "Time:                        15:18:27   Log-Likelihood:                 59.143\n",
        "No. Observations:                  30   AIC:                            -114.3\n",
        "Df Residuals:                      28   BIC:                            -111.5\n",
        "Df Model:                           1                                         \n",
        "Covariance Type:            nonrobust                                         \n",
        "==============================================================================\n",
        "                 coef    std err          t      P>|t|      [95.0% Conf. Int.]\n",
        "------------------------------------------------------------------------------\n",
        "const          0.0840      0.007     11.814      0.000         0.069     0.099\n",
        "ProbAB         0.9699      0.067     14.525      0.000         0.833     1.107\n",
        "==============================================================================\n",
        "Omnibus:                       15.855   Durbin-Watson:                   1.717\n",
        "Prob(Omnibus):                  0.000   Jarque-Bera (JB):               20.113\n",
        "Skew:                           1.300   Prob(JB):                     4.29e-05\n",
        "Kurtosis:                       6.054   Cond. No.                         10.5\n",
        "==============================================================================\n",
        "\n",
        "Warnings:\n",
        "[1] Standard Errors assume that the covariance matrix of the errors is correctly specified.\n",
        "\"\"\""
       ]
      }
     ],
     "prompt_number": 13
    },
    {
     "cell_type": "code",
     "collapsed": false,
     "input": [
      "est.params"
     ],
     "language": "python",
     "metadata": {},
     "outputs": [
      {
       "metadata": {},
       "output_type": "pyout",
       "prompt_number": 14,
       "text": [
        "const     0.084042\n",
        "ProbAB    0.969894\n",
        "dtype: float64"
       ]
      }
     ],
     "prompt_number": 14
    },
    {
     "cell_type": "code",
     "collapsed": false,
     "input": [
      "# Make sure that graphics appear inline in the iPython notebook\n",
      "%pylab inline\n",
      "\n",
      "# We pick 100 hundred points equally spaced from the min to the max\n",
      "X_prime = np.linspace(X.ProbAB.min(), X.ProbAB.max(), 100)[:, np.newaxis]\n",
      "X_prime = sm.add_constant(X_prime)  # add constant as we did before\n",
      "\n",
      "# Now we calculate the predicted values\n",
      "y_hat = est.predict(X_prime)\n",
      "\n",
      "plt.scatter(X.ProbAB, y, alpha=0.3)  # Plot the raw data\n",
      "plt.xlabel(\"Probability of Mating Population A and B\")\n",
      "plt.ylabel(\"Mating Rate Ratio Hybrid/Total\")\n",
      "plt.plot(X_prime[:, 1], y_hat, 'r', alpha=0.9)  # Add the regression line, colored in red\n",
      "\n"
     ],
     "language": "python",
     "metadata": {},
     "outputs": [
      {
       "output_type": "stream",
       "stream": "stdout",
       "text": [
        "Populating the interactive namespace from numpy and matplotlib\n"
       ]
      },
      {
       "metadata": {},
       "output_type": "pyout",
       "prompt_number": 15,
       "text": [
        "[<matplotlib.lines.Line2D at 0x106607810>]"
       ]
      },
      {
       "output_type": "stream",
       "stream": "stderr",
       "text": [
        "/usr/local/lib/python2.7/site-packages/matplotlib/font_manager.py:1236: UserWarning: findfont: Font family ['normal'] not found. Falling back to Bitstream Vera Sans\n",
        "  (prop.get_family(), self.defaultFamily[fontext]))\n"
       ]
      },
      {
       "metadata": {},
       "output_type": "display_data",
       "png": "[encoded data removed]",
       "text": [
        "<matplotlib.figure.Figure at 0x106e6ef10>"
       ]
      }
     ],
     "prompt_number": 15
    },
    {
     "cell_type": "code",
     "collapsed": false,
     "input": [],
     "language": "python",
     "metadata": {},
     "outputs": [],
     "prompt_number": 15
    }
   ],
   "metadata": {}
  }
 ]
}