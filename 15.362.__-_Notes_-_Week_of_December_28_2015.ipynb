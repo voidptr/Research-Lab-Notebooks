{
 "cells": [
  {
   "cell_type": "code",
   "execution_count": 5,
   "metadata": {
    "collapsed": false,
    "scrolled": true
   },
   "outputs": [
    {
     "data": {
      "text/plain": [
       "u'0.17.1'"
      ]
     },
     "execution_count": 5,
     "metadata": {},
     "output_type": "execute_result"
    }
   ],
   "source": [
    "import pandas as pd\n",
    "import numpy as np\n",
    "import matplotlib.pyplot as plt\n",
    "pd.__version__"
   ]
  },
  {
   "cell_type": "code",
   "execution_count": 6,
   "metadata": {
    "collapsed": true
   },
   "outputs": [],
   "source": [
    "%matplotlib inline"
   ]
  },
  {
   "cell_type": "code",
   "execution_count": 7,
   "metadata": {
    "collapsed": false
   },
   "outputs": [
    {
     "data": {
      "text/plain": [
       "'0.16.1'"
      ]
     },
     "execution_count": 7,
     "metadata": {},
     "output_type": "execute_result"
    }
   ],
   "source": [
    "import scipy  \n",
    "from scipy import stats\n",
    "import scikits.bootstrap as bootstrap  \n",
    "scipy.__version__"
   ]
  },
  {
   "cell_type": "code",
   "execution_count": 2,
   "metadata": {
    "collapsed": false
   },
   "outputs": [
    {
     "name": "stdout",
     "output_type": "stream",
     "text": [
      "/home/rosiec/Dropbox/School_Docs/Research/AvidaDev/HGT_dev_working_directory\n"
     ]
    }
   ],
   "source": [
    "cd /home/rosiec/Dropbox/School_Docs/Research/AvidaDev/HGT_dev_working_directory/"
   ]
  },
  {
   "cell_type": "code",
   "execution_count": 4,
   "metadata": {
    "collapsed": false
   },
   "outputs": [
    {
     "name": "stdout",
     "output_type": "stream",
     "text": [
      "\u001b[0m\u001b[01;34mconfig\u001b[0m/                     \u001b[01;34mHGT_P.5_Bonus1_noHGTBonus\u001b[0m/\r\n",
      "\u001b[01;34mHGT_P.5_Bonus1_HGTBonus\u001b[0m/    \u001b[01;34mHGT_P.5_Bonus1_noHGTnoBonus\u001b[0m/\r\n",
      "\u001b[01;34mHGT_P.5_Bonus1_HGTnoBonus\u001b[0m/\r\n"
     ]
    }
   ],
   "source": [
    "ls"
   ]
  },
  {
   "cell_type": "code",
   "execution_count": 25,
   "metadata": {
    "collapsed": true
   },
   "outputs": [],
   "source": [
    "header_row=['Update','metcount','metsize','inscount','inssize','inscountdebug','uptake','recomb','bonus']"
   ]
  },
  {
   "cell_type": "code",
   "execution_count": 36,
   "metadata": {
    "collapsed": false
   },
   "outputs": [],
   "source": [
    "noHGTnoBonus=pd.read_csv(\"HGT_P.5_Bonus1_noHGTnoBonus/data/hgt.dat\", \n",
    "                         names=header_row, delimiter=\" \", comment='#',index_col=False)"
   ]
  },
  {
   "cell_type": "code",
   "execution_count": 37,
   "metadata": {
    "collapsed": false
   },
   "outputs": [],
   "source": [
    "HGTnoBonus=pd.read_csv(\"HGT_P.5_Bonus1_HGTnoBonus/data/hgt.dat\", \n",
    "                       names=header_row, delimiter=\" \", comment='#',index_col=False)"
   ]
  },
  {
   "cell_type": "code",
   "execution_count": 38,
   "metadata": {
    "collapsed": false
   },
   "outputs": [],
   "source": [
    "HGTBonus=pd.read_csv(\"HGT_P.5_Bonus1_HGTBonus/data/hgt.dat\", \n",
    "                     names=header_row, delimiter=\" \", comment='#',index_col=False)"
   ]
  },
  {
   "cell_type": "code",
   "execution_count": 39,
   "metadata": {
    "collapsed": false
   },
   "outputs": [
    {
     "data": {
      "text/html": [
       "<div>\n",
       "<table border=\"1\" class=\"dataframe\">\n",
       "  <thead>\n",
       "    <tr style=\"text-align: right;\">\n",
       "      <th></th>\n",
       "      <th>Update</th>\n",
       "      <th>metcount</th>\n",
       "      <th>metsize</th>\n",
       "      <th>inscount</th>\n",
       "      <th>inssize</th>\n",
       "      <th>inscountdebug</th>\n",
       "      <th>uptake</th>\n",
       "      <th>recomb</th>\n",
       "      <th>bonus</th>\n",
       "    </tr>\n",
       "  </thead>\n",
       "  <tbody>\n",
       "    <tr>\n",
       "      <th>27</th>\n",
       "      <td>2700</td>\n",
       "      <td>0</td>\n",
       "      <td>0</td>\n",
       "      <td>0</td>\n",
       "      <td>0</td>\n",
       "      <td>0</td>\n",
       "      <td>77035</td>\n",
       "      <td>0</td>\n",
       "      <td>77035</td>\n",
       "    </tr>\n",
       "    <tr>\n",
       "      <th>28</th>\n",
       "      <td>2800</td>\n",
       "      <td>0</td>\n",
       "      <td>0</td>\n",
       "      <td>0</td>\n",
       "      <td>0</td>\n",
       "      <td>0</td>\n",
       "      <td>71119</td>\n",
       "      <td>0</td>\n",
       "      <td>71119</td>\n",
       "    </tr>\n",
       "    <tr>\n",
       "      <th>29</th>\n",
       "      <td>2900</td>\n",
       "      <td>0</td>\n",
       "      <td>0</td>\n",
       "      <td>0</td>\n",
       "      <td>0</td>\n",
       "      <td>0</td>\n",
       "      <td>66773</td>\n",
       "      <td>0</td>\n",
       "      <td>66773</td>\n",
       "    </tr>\n",
       "    <tr>\n",
       "      <th>30</th>\n",
       "      <td>3000</td>\n",
       "      <td>0</td>\n",
       "      <td>0</td>\n",
       "      <td>0</td>\n",
       "      <td>0</td>\n",
       "      <td>0</td>\n",
       "      <td>57111</td>\n",
       "      <td>0</td>\n",
       "      <td>57111</td>\n",
       "    </tr>\n",
       "    <tr>\n",
       "      <th>31</th>\n",
       "      <td>3100</td>\n",
       "      <td>0</td>\n",
       "      <td>0</td>\n",
       "      <td>0</td>\n",
       "      <td>0</td>\n",
       "      <td>0</td>\n",
       "      <td>46486</td>\n",
       "      <td>0</td>\n",
       "      <td>46486</td>\n",
       "    </tr>\n",
       "  </tbody>\n",
       "</table>\n",
       "</div>"
      ],
      "text/plain": [
       "    Update  metcount  metsize  inscount  inssize  inscountdebug  uptake  \\\n",
       "27    2700         0        0         0        0              0   77035   \n",
       "28    2800         0        0         0        0              0   71119   \n",
       "29    2900         0        0         0        0              0   66773   \n",
       "30    3000         0        0         0        0              0   57111   \n",
       "31    3100         0        0         0        0              0   46486   \n",
       "\n",
       "    recomb  bonus  \n",
       "27       0  77035  \n",
       "28       0  71119  \n",
       "29       0  66773  \n",
       "30       0  57111  \n",
       "31       0  46486  "
      ]
     },
     "execution_count": 39,
     "metadata": {},
     "output_type": "execute_result"
    }
   ],
   "source": [
    "noHGTBonus=pd.read_csv(\"HGT_P.5_Bonus1_noHGTBonus/data/hgt.dat\", \n",
    "                       names=header_row, delimiter=\" \", comment='#',index_col=False)\n",
    "noHGTBonus.tail()"
   ]
  },
  {
   "cell_type": "code",
   "execution_count": 49,
   "metadata": {
    "collapsed": false
   },
   "outputs": [],
   "source": [
    "combined_uptake = pd.DataFrame()"
   ]
  },
  {
   "cell_type": "code",
   "execution_count": 58,
   "metadata": {
    "collapsed": false
   },
   "outputs": [
    {
     "data": {
      "text/html": [
       "<div>\n",
       "<table border=\"1\" class=\"dataframe\">\n",
       "  <thead>\n",
       "    <tr style=\"text-align: right;\">\n",
       "      <th></th>\n",
       "      <th>noHGTnoBonus</th>\n",
       "      <th>HGTnoBonus</th>\n",
       "      <th>noHGTBonus</th>\n",
       "      <th>HGTBonus</th>\n",
       "    </tr>\n",
       "  </thead>\n",
       "  <tbody>\n",
       "    <tr>\n",
       "      <th>0</th>\n",
       "      <td>0</td>\n",
       "      <td>0</td>\n",
       "      <td>0</td>\n",
       "      <td>0</td>\n",
       "    </tr>\n",
       "    <tr>\n",
       "      <th>1</th>\n",
       "      <td>3</td>\n",
       "      <td>3</td>\n",
       "      <td>3</td>\n",
       "      <td>6</td>\n",
       "    </tr>\n",
       "    <tr>\n",
       "      <th>2</th>\n",
       "      <td>227</td>\n",
       "      <td>190</td>\n",
       "      <td>2006</td>\n",
       "      <td>153</td>\n",
       "    </tr>\n",
       "    <tr>\n",
       "      <th>3</th>\n",
       "      <td>1547</td>\n",
       "      <td>819</td>\n",
       "      <td>15534</td>\n",
       "      <td>786</td>\n",
       "    </tr>\n",
       "    <tr>\n",
       "      <th>4</th>\n",
       "      <td>4541</td>\n",
       "      <td>2198</td>\n",
       "      <td>24005</td>\n",
       "      <td>2663</td>\n",
       "    </tr>\n",
       "    <tr>\n",
       "      <th>5</th>\n",
       "      <td>12215</td>\n",
       "      <td>4754</td>\n",
       "      <td>24758</td>\n",
       "      <td>5347</td>\n",
       "    </tr>\n",
       "    <tr>\n",
       "      <th>6</th>\n",
       "      <td>22285</td>\n",
       "      <td>6639</td>\n",
       "      <td>27296</td>\n",
       "      <td>8876</td>\n",
       "    </tr>\n",
       "    <tr>\n",
       "      <th>7</th>\n",
       "      <td>30370</td>\n",
       "      <td>5016</td>\n",
       "      <td>29188</td>\n",
       "      <td>8954</td>\n",
       "    </tr>\n",
       "    <tr>\n",
       "      <th>8</th>\n",
       "      <td>32138</td>\n",
       "      <td>3589</td>\n",
       "      <td>33909</td>\n",
       "      <td>9330</td>\n",
       "    </tr>\n",
       "    <tr>\n",
       "      <th>9</th>\n",
       "      <td>34618</td>\n",
       "      <td>3096</td>\n",
       "      <td>38607</td>\n",
       "      <td>10338</td>\n",
       "    </tr>\n",
       "    <tr>\n",
       "      <th>10</th>\n",
       "      <td>33989</td>\n",
       "      <td>3201</td>\n",
       "      <td>39225</td>\n",
       "      <td>14280</td>\n",
       "    </tr>\n",
       "    <tr>\n",
       "      <th>11</th>\n",
       "      <td>29000</td>\n",
       "      <td>2580</td>\n",
       "      <td>44279</td>\n",
       "      <td>24526</td>\n",
       "    </tr>\n",
       "    <tr>\n",
       "      <th>12</th>\n",
       "      <td>28578</td>\n",
       "      <td>3391</td>\n",
       "      <td>49455</td>\n",
       "      <td>34007</td>\n",
       "    </tr>\n",
       "    <tr>\n",
       "      <th>13</th>\n",
       "      <td>29052</td>\n",
       "      <td>3120</td>\n",
       "      <td>51866</td>\n",
       "      <td>29464</td>\n",
       "    </tr>\n",
       "    <tr>\n",
       "      <th>14</th>\n",
       "      <td>34998</td>\n",
       "      <td>2028</td>\n",
       "      <td>50627</td>\n",
       "      <td>31674</td>\n",
       "    </tr>\n",
       "    <tr>\n",
       "      <th>15</th>\n",
       "      <td>48091</td>\n",
       "      <td>2185</td>\n",
       "      <td>60568</td>\n",
       "      <td>29203</td>\n",
       "    </tr>\n",
       "    <tr>\n",
       "      <th>16</th>\n",
       "      <td>53054</td>\n",
       "      <td>2135</td>\n",
       "      <td>65089</td>\n",
       "      <td>22739</td>\n",
       "    </tr>\n",
       "    <tr>\n",
       "      <th>17</th>\n",
       "      <td>59218</td>\n",
       "      <td>2364</td>\n",
       "      <td>67047</td>\n",
       "      <td>26124</td>\n",
       "    </tr>\n",
       "    <tr>\n",
       "      <th>18</th>\n",
       "      <td>61744</td>\n",
       "      <td>2068</td>\n",
       "      <td>74709</td>\n",
       "      <td>28690</td>\n",
       "    </tr>\n",
       "    <tr>\n",
       "      <th>19</th>\n",
       "      <td>64547</td>\n",
       "      <td>1744</td>\n",
       "      <td>77363</td>\n",
       "      <td>31033</td>\n",
       "    </tr>\n",
       "    <tr>\n",
       "      <th>20</th>\n",
       "      <td>69037</td>\n",
       "      <td>1956</td>\n",
       "      <td>83656</td>\n",
       "      <td>34293</td>\n",
       "    </tr>\n",
       "    <tr>\n",
       "      <th>21</th>\n",
       "      <td>70439</td>\n",
       "      <td>2047</td>\n",
       "      <td>85267</td>\n",
       "      <td>35271</td>\n",
       "    </tr>\n",
       "    <tr>\n",
       "      <th>22</th>\n",
       "      <td>80231</td>\n",
       "      <td>2034</td>\n",
       "      <td>85014</td>\n",
       "      <td>34068</td>\n",
       "    </tr>\n",
       "    <tr>\n",
       "      <th>23</th>\n",
       "      <td>92004</td>\n",
       "      <td>1909</td>\n",
       "      <td>80716</td>\n",
       "      <td>31176</td>\n",
       "    </tr>\n",
       "    <tr>\n",
       "      <th>24</th>\n",
       "      <td>100985</td>\n",
       "      <td>1684</td>\n",
       "      <td>77252</td>\n",
       "      <td>25603</td>\n",
       "    </tr>\n",
       "    <tr>\n",
       "      <th>25</th>\n",
       "      <td>105075</td>\n",
       "      <td>1700</td>\n",
       "      <td>81890</td>\n",
       "      <td>24507</td>\n",
       "    </tr>\n",
       "    <tr>\n",
       "      <th>26</th>\n",
       "      <td>106135</td>\n",
       "      <td>1469</td>\n",
       "      <td>75886</td>\n",
       "      <td>28292</td>\n",
       "    </tr>\n",
       "    <tr>\n",
       "      <th>27</th>\n",
       "      <td>115976</td>\n",
       "      <td>1742</td>\n",
       "      <td>77035</td>\n",
       "      <td>25287</td>\n",
       "    </tr>\n",
       "    <tr>\n",
       "      <th>28</th>\n",
       "      <td>116245</td>\n",
       "      <td>1916</td>\n",
       "      <td>71119</td>\n",
       "      <td>23225</td>\n",
       "    </tr>\n",
       "    <tr>\n",
       "      <th>29</th>\n",
       "      <td>108715</td>\n",
       "      <td>2147</td>\n",
       "      <td>66773</td>\n",
       "      <td>19780</td>\n",
       "    </tr>\n",
       "    <tr>\n",
       "      <th>30</th>\n",
       "      <td>107850</td>\n",
       "      <td>1515</td>\n",
       "      <td>57111</td>\n",
       "      <td>16560</td>\n",
       "    </tr>\n",
       "    <tr>\n",
       "      <th>31</th>\n",
       "      <td>96905</td>\n",
       "      <td>2104</td>\n",
       "      <td>46486</td>\n",
       "      <td>11775</td>\n",
       "    </tr>\n",
       "  </tbody>\n",
       "</table>\n",
       "</div>"
      ],
      "text/plain": [
       "    noHGTnoBonus  HGTnoBonus  noHGTBonus  HGTBonus\n",
       "0              0           0           0         0\n",
       "1              3           3           3         6\n",
       "2            227         190        2006       153\n",
       "3           1547         819       15534       786\n",
       "4           4541        2198       24005      2663\n",
       "5          12215        4754       24758      5347\n",
       "6          22285        6639       27296      8876\n",
       "7          30370        5016       29188      8954\n",
       "8          32138        3589       33909      9330\n",
       "9          34618        3096       38607     10338\n",
       "10         33989        3201       39225     14280\n",
       "11         29000        2580       44279     24526\n",
       "12         28578        3391       49455     34007\n",
       "13         29052        3120       51866     29464\n",
       "14         34998        2028       50627     31674\n",
       "15         48091        2185       60568     29203\n",
       "16         53054        2135       65089     22739\n",
       "17         59218        2364       67047     26124\n",
       "18         61744        2068       74709     28690\n",
       "19         64547        1744       77363     31033\n",
       "20         69037        1956       83656     34293\n",
       "21         70439        2047       85267     35271\n",
       "22         80231        2034       85014     34068\n",
       "23         92004        1909       80716     31176\n",
       "24        100985        1684       77252     25603\n",
       "25        105075        1700       81890     24507\n",
       "26        106135        1469       75886     28292\n",
       "27        115976        1742       77035     25287\n",
       "28        116245        1916       71119     23225\n",
       "29        108715        2147       66773     19780\n",
       "30        107850        1515       57111     16560\n",
       "31         96905        2104       46486     11775"
      ]
     },
     "execution_count": 58,
     "metadata": {},
     "output_type": "execute_result"
    }
   ],
   "source": [
    "combined_uptake['noHGTnoBonus'] = noHGTnoBonus['uptake']\n",
    "combined_uptake['HGTnoBonus'] = HGTnoBonus['uptake']\n",
    "combined_uptake['noHGTBonus'] = noHGTBonus['uptake']\n",
    "combined_uptake['HGTBonus'] = HGTBonus['uptake']\n",
    "combined_uptake"
   ]
  },
  {
   "cell_type": "code",
   "execution_count": 57,
   "metadata": {
    "collapsed": false
   },
   "outputs": [
    {
     "data": {
      "text/plain": [
       "<matplotlib.axes._subplots.AxesSubplot at 0x7f9d70f07310>"
      ]
     },
     "execution_count": 57,
     "metadata": {},
     "output_type": "execute_result"
    },
    {
     "data": {
      "image/png": "[encoded data removed]",
      "text/plain": [
       "<matplotlib.figure.Figure at 0x7f9d713ff590>"
      ]
     },
     "metadata": {},
     "output_type": "display_data"
    }
   ],
   "source": [
    "combined_uptake.plot()"
   ]
  },
  {
   "cell_type": "code",
   "execution_count": null,
   "metadata": {
    "collapsed": true
   },
   "outputs": [],
   "source": []
  }
 ],
 "metadata": {
  "kernelspec": {
   "display_name": "Python 2",
   "language": "python2",
   "name": "python2"
  },
  "language_info": {
   "codemirror_mode": {
    "name": "ipython",
    "version": 2
   },
   "file_extension": ".py",
   "mimetype": "text/x-python",
   "name": "python",
   "nbconvert_exporter": "python",
   "pygments_lexer": "ipython2",
   "version": "2.7.11"
  },
  "latex_envs": {
   "bibliofile": "biblio.bib",
   "cite_by": "apalike",
   "current_citInitial": 1,
   "eqLabelWithNumbers": true,
   "eqNumInitial": 0
  }
 },
 "nbformat": 4,
 "nbformat_minor": 0
}
